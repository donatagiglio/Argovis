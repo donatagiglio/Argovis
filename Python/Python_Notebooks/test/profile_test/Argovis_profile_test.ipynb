{
  "nbformat": 4,
  "nbformat_minor": 0,
  "metadata": {
    "colab": {
      "name": "Argovis_profile_test.ipynb",
      "provenance": []
    },
    "kernelspec": {
      "name": "python3",
      "display_name": "Python 3"
    }
  },
  "cells": [
    {
      "cell_type": "markdown",
      "metadata": {
        "id": "v9HbwBLtBC2i"
      },
      "source": [
        "##**This is an example**##"
      ]
    },
    {
      "cell_type": "markdown",
      "metadata": {
        "id": "cK6_X1TmBWrY"
      },
      "source": [
        "\n",
        "\n",
        "##Check EC TAC Notebook Template at https://github.com/earthcube/NotebookTemplates!##\n",
        "\n"
      ]
    },
    {
      "cell_type": "code",
      "metadata": {
        "id": "IUwM62zbAn7f"
      },
      "source": [
        "import requests\n",
        "import numpy as np\n",
        "import pandas as pd\n",
        "\n",
        "from datetime import datetime, timedelta\n",
        "import calendar\n",
        "\n",
        "import matplotlib.pylab as plt\n",
        "import matplotlib\n",
        "matplotlib.font_manager._rebuild()\n",
        "\n",
        "import matplotlib.patches as mpatches\n",
        "    \n",
        "#import warnings\n",
        "#warnings.filterwarnings('ignore')"
      ],
      "execution_count": 6,
      "outputs": []
    },
    {
      "cell_type": "markdown",
      "metadata": {
        "id": "FgR4i352CKUf"
      },
      "source": [
        "###**Get a profile from Argovis**###"
      ]
    },
    {
      "cell_type": "code",
      "metadata": {
        "id": "glm3dtmFCF-_"
      },
      "source": [
        "def get_profile(profile_number):\n",
        "    url = 'https://argovis.colorado.edu/catalog/profiles/{}'.format(profile_number)\n",
        "    resp = requests.get(url)\n",
        "    # Consider any status other than 2xx an error\n",
        "    if not resp.status_code // 100 == 2:\n",
        "        return \"Error: Unexpected response {}\".format(resp)\n",
        "    profile = resp.json()\n",
        "    return profile"
      ],
      "execution_count": 2,
      "outputs": []
    },
    {
      "cell_type": "code",
      "metadata": {
        "id": "AkzPiLEzCJp2"
      },
      "source": [
        "profileDict = get_profile('3900737_279')"
      ],
      "execution_count": 3,
      "outputs": []
    },
    {
      "cell_type": "markdown",
      "metadata": {
        "id": "fGpJg-A3CWfF"
      },
      "source": [
        "profileDict is a set of key:value pairs enclosed by curly brackets. These are profile objects stored in the Argovis Database, imported in a Python environment. We expose the keys with the command profileDict.keys()"
      ]
    },
    {
      "cell_type": "code",
      "metadata": {
        "colab": {
          "base_uri": "https://localhost:8080/",
          "height": 241
        },
        "id": "3nczDHs5CRZy",
        "outputId": "4d1ef222-bbd8-4c70-8ccf-b867f12a64b8"
      },
      "source": [
        "print(profileDict.keys())\n",
        "profileDict = get_profile('3900737_279')\n",
        "profileDf = pd.DataFrame(profileDict['measurements'])\n",
        "profileDf['cycle_number'] = profileDict['cycle_number']\n",
        "profileDf['profile_id'] = profileDict['_id']\n",
        "profileDf.head()"
      ],
      "execution_count": 4,
      "outputs": [
        {
          "output_type": "stream",
          "text": [
            "dict_keys(['bgcMeasKeys', 'station_parameters', 'station_parameters_in_nc', 'PARAMETER_DATA_MODE', '_id', 'POSITIONING_SYSTEM', 'DATA_CENTRE', 'PI_NAME', 'WMO_INST_TYPE', 'VERTICAL_SAMPLING_SCHEME', 'DATA_MODE', 'PLATFORM_TYPE', 'measurements', 'pres_max_for_TEMP', 'pres_min_for_TEMP', 'pres_max_for_PSAL', 'pres_min_for_PSAL', 'max_pres', 'date', 'date_added', 'date_qc', 'lat', 'lon', 'geoLocation', 'position_qc', 'cycle_number', 'dac', 'platform_number', 'nc_url', 'DIRECTION', 'BASIN', 'bgcMeas', 'url', 'core_data_mode', 'jcommopsPlatform', 'euroargoPlatform', 'formatted_station_parameters', 'roundLat', 'roundLon', 'strLat', 'strLon', 'date_formatted', 'id'])\n"
          ],
          "name": "stdout"
        },
        {
          "output_type": "execute_result",
          "data": {
            "text/html": [
              "<div>\n",
              "<style scoped>\n",
              "    .dataframe tbody tr th:only-of-type {\n",
              "        vertical-align: middle;\n",
              "    }\n",
              "\n",
              "    .dataframe tbody tr th {\n",
              "        vertical-align: top;\n",
              "    }\n",
              "\n",
              "    .dataframe thead th {\n",
              "        text-align: right;\n",
              "    }\n",
              "</style>\n",
              "<table border=\"1\" class=\"dataframe\">\n",
              "  <thead>\n",
              "    <tr style=\"text-align: right;\">\n",
              "      <th></th>\n",
              "      <th>temp</th>\n",
              "      <th>psal</th>\n",
              "      <th>pres</th>\n",
              "      <th>cycle_number</th>\n",
              "      <th>profile_id</th>\n",
              "    </tr>\n",
              "  </thead>\n",
              "  <tbody>\n",
              "    <tr>\n",
              "      <th>0</th>\n",
              "      <td>27.165</td>\n",
              "      <td>35.421</td>\n",
              "      <td>4.4</td>\n",
              "      <td>279</td>\n",
              "      <td>3900737_279</td>\n",
              "    </tr>\n",
              "    <tr>\n",
              "      <th>1</th>\n",
              "      <td>27.063</td>\n",
              "      <td>35.421</td>\n",
              "      <td>10.0</td>\n",
              "      <td>279</td>\n",
              "      <td>3900737_279</td>\n",
              "    </tr>\n",
              "    <tr>\n",
              "      <th>2</th>\n",
              "      <td>27.055</td>\n",
              "      <td>35.422</td>\n",
              "      <td>16.9</td>\n",
              "      <td>279</td>\n",
              "      <td>3900737_279</td>\n",
              "    </tr>\n",
              "    <tr>\n",
              "      <th>3</th>\n",
              "      <td>27.048</td>\n",
              "      <td>35.422</td>\n",
              "      <td>23.7</td>\n",
              "      <td>279</td>\n",
              "      <td>3900737_279</td>\n",
              "    </tr>\n",
              "    <tr>\n",
              "      <th>4</th>\n",
              "      <td>27.046</td>\n",
              "      <td>35.421</td>\n",
              "      <td>30.9</td>\n",
              "      <td>279</td>\n",
              "      <td>3900737_279</td>\n",
              "    </tr>\n",
              "  </tbody>\n",
              "</table>\n",
              "</div>"
            ],
            "text/plain": [
              "     temp    psal  pres  cycle_number   profile_id\n",
              "0  27.165  35.421   4.4           279  3900737_279\n",
              "1  27.063  35.421  10.0           279  3900737_279\n",
              "2  27.055  35.422  16.9           279  3900737_279\n",
              "3  27.048  35.422  23.7           279  3900737_279\n",
              "4  27.046  35.421  30.9           279  3900737_279"
            ]
          },
          "metadata": {
            "tags": []
          },
          "execution_count": 4
        }
      ]
    },
    {
      "cell_type": "code",
      "metadata": {
        "colab": {
          "base_uri": "https://localhost:8080/",
          "height": 281
        },
        "id": "3yTGMxASCSDn",
        "outputId": "3704bd7f-65c2-4b45-f208-1c4305cb457f"
      },
      "source": [
        "# matplotlib and selected style\n",
        "with plt.xkcd():\n",
        "    fig = plt.figure()\n",
        "    ax = fig.add_axes((0.1, 0.2, 0.8, 0.7))\n",
        "    ax.spines['right'].set_color('none')\n",
        "    ax.spines['top'].set_color('none')\n",
        "    ax.set_xticks([])\n",
        "    ax.set_yticks([])\n",
        "    ax.invert_yaxis()\n",
        "\n",
        "    dataX = profileDf.pres.values\n",
        "    dataY = profileDf.temp.values\n",
        "    ax.plot(dataY, dataX)\n",
        "\n",
        "    ax.set_title('An Argo Profile \\n in the style of XKCD')\n",
        "    ax.set_xlabel('Temperature [C]')\n",
        "    ax.set_ylabel('Pressure [dbar]')\n",
        "    \n",
        "    ax.annotate(\n",
        "    'We can make annotations!',\n",
        "    xy=(dataY[12], dataX[12]+10), \\\n",
        "        arrowprops=dict( color='k', arrowstyle='->'), xytext=(15, 1100))"
      ],
      "execution_count": 7,
      "outputs": [
        {
          "output_type": "display_data",
          "data": {
            "image/png": "[encoded data removed]",
            "text/plain": [
              "<Figure size 432x288 with 1 Axes>"
            ]
          },
          "metadata": {
            "tags": []
          }
        }
      ]
    },
    {
      "cell_type": "code",
      "metadata": {
        "id": "Dn5HVVx9Cm-W"
      },
      "source": [
        ""
      ],
      "execution_count": null,
      "outputs": []
    }
  ]
}
